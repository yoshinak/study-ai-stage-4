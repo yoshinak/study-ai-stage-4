{
  "nbformat": 4,
  "nbformat_minor": 0,
  "metadata": {
    "colab": {
      "name": "day-3-1-rnn.ipynb",
      "provenance": [],
      "collapsed_sections": [],
      "toc_visible": true,
      "authorship_tag": "ABX9TyN8X4s1G3C/4dfgB+9UdSyP"
    },
    "kernelspec": {
      "name": "python3",
      "display_name": "Python 3"
    },
    "language_info": {
      "name": "python"
    }
  },
  "cells": [
    {
      "cell_type": "markdown",
      "metadata": {
        "id": "Adnxs5kDc2pd"
      },
      "source": [
        "# (day3) Section 1: 再帰型ニューラルネットワークの構造\n",
        "\n",
        "本書は、「深層学習後編（day3）レポート」の、「Section 1: 再帰型ニューラルネットワークの構造」についてのものです。\n"
      ]
    },
    {
      "cell_type": "markdown",
      "metadata": {
        "id": "9_jMHYWudCh3"
      },
      "source": [
        "## 1. 要点まとめ\n"
      ]
    },
    {
      "cell_type": "markdown",
      "source": [
        "<!-- - page. 13 - page. 54\n",
        "\n",
        "- 1-1 RNN 全体像\n",
        "  - 1-1-1 RNN とは\n",
        "  - 1-1-2 時系列データ\n",
        "  - 1-1-2 RNN について\n",
        "    - 全体像\n",
        "    - 数学的記述\n",
        "    - 特徴\n",
        "- 1-2 BPTT\n",
        "  - 1-2-1 BPTT とは\n",
        "  - 1-2-2 BPTT の数学的記述\n",
        "    - 1\n",
        "    - 2\n",
        "    - 3\n",
        "    - 4\n",
        "  - 1-2-3 BPTT の全体像 -->\n"
      ],
      "metadata": {
        "id": "qwmtSrN4Er1d"
      }
    },
    {
      "cell_type": "markdown",
      "source": [
        "### 1-1 RNN 全体像\n"
      ],
      "metadata": {
        "id": "Q-aBQ2XvLF_M"
      }
    },
    {
      "cell_type": "markdown",
      "source": [
        "#### 1-1-1 RNN とは\n",
        "\n",
        "RNN ( Recurrent Neural Network ) とは、時系列データに対応可能な NN 。\n"
      ],
      "metadata": {
        "id": "bhddGcNALKU8"
      }
    },
    {
      "cell_type": "markdown",
      "source": [
        "#### 1-1-2 時系列データ\n",
        "\n",
        "- 時間的順序を一定間隔ごとに観測される。\n",
        "\n",
        "- 相互に統計的依存関係が認められるようなデータの系列。\n"
      ],
      "metadata": {
        "id": "hpzHE2IRLi-k"
      }
    },
    {
      "cell_type": "markdown",
      "source": [
        "#### 1-1-2 RNN について\n",
        "\n",
        "<!-- page. 18 の例では、出力層が 2 。\n",
        "2 ノードの予測値について、時系列の変化となる $ t $ の要素が追加されたもの。\n",
        "\n",
        "$$\n",
        "\\textbf{y}_n^{(t)} = \\textbf{y}_1^{(t)}, \\textbf{y}_2^{(t)}\n",
        "$$ -->\n"
      ],
      "metadata": {
        "id": "Q2gA1xb9MaVe"
      }
    },
    {
      "cell_type": "markdown",
      "source": [
        "##### 全体像\n",
        "\n",
        "<!-- - unfold\n",
        "\n",
        "- W ( in )\n",
        "\n",
        "- W ( out ) -->\n",
        "\n",
        "page. 19 の、図の左部分は、 NN が計算した結果 z も入力にして計算を繰り返すことを意味する。\n",
        "\n",
        "右の部分は、その流れを $ z_1, z_2, \\cdots, z_4 $ の順序で計算していくことを意味する。\n"
      ],
      "metadata": {
        "id": "AD62_awWos5d"
      }
    },
    {
      "cell_type": "markdown",
      "source": [
        "RNN では 3 種類の重みを使う。\n",
        "\n",
        "page. 20 の図の、以下である。\n",
        "\n",
        "- $ \\textbf{W}_{(in)} $<br>\n",
        "  入力 $ x_i $ に対する重み。\n",
        "\n",
        "- $ \\textbf{W}_{(out)} $<br>\n",
        "  中間層の計算結果 $ z_i $ から、\n",
        "  出力層の結果 $ y_i $ を得るための重み。\n",
        "\n",
        "- $ \\textbf{W} $<br>\n",
        "  中間層の計算結果 $ z_i $ を、\n",
        "  次の時間的順序の中間層 $ z_{i+1} $ に適用する重み。\n"
      ],
      "metadata": {
        "id": "MaHY3BNk4P-8"
      }
    },
    {
      "cell_type": "markdown",
      "source": [
        "##### 数学的記述とコード\n",
        "\n",
        "$ \\textbf{u}^t $ は、 page. 20 の、\n",
        "中間層 $ z_t $ の入力値である。\n",
        "入力に対する重み $ \\textbf{W}_{(in)} $ を適用する。\n",
        "\n",
        "$$\n",
        "\\textbf{u}^t = \\textbf{W}_{(in)} \\textbf{x}^t\n",
        "+\n",
        "\\textbf{W} \\textbf{z}^{t-1}\n",
        "+\n",
        "\\textbf{b}\n",
        "$$\n",
        "\n",
        "今、処理している時間的順序 $ t $ の、\n",
        "1 つ前の $ t - 1 $ の、\n",
        "$ \\textbf{z}^{t-1} $ を使っている。<br>\n",
        "そして、それに、重み $ \\textbf{W} $ を適用している。\n"
      ],
      "metadata": {
        "id": "Az-ImELHpUWV"
      }
    },
    {
      "cell_type": "markdown",
      "source": [
        "`3_1_simple_RNN.ipynb` の対応するコードは、以下。\n",
        "\n",
        "```python\n",
        "        u[:,t+1] = np.dot(X, W_in) + np.dot(z[:,t].reshape(1, -1), W)\n",
        "```\n",
        "\n",
        "以下のループ処理の中にある。\n",
        "\n",
        "```python\n",
        "    # 時系列ループ\n",
        "    for t in range(binary_dim):\n",
        "```\n",
        "\n",
        "以降の数式に対応するコードも同様に、上記のループの中にある。\n"
      ],
      "metadata": {
        "id": "07EwLKn7c8ju"
      }
    },
    {
      "cell_type": "markdown",
      "source": [
        "$ \\textbf{z}^t $ は、中間層の計算結果。\n",
        "\n",
        "$$\n",
        "\\textbf{z}^t\n",
        "=\n",
        "f(\n",
        "  \\textbf{W}_{(in)} \\textbf{x}^t\n",
        "  +\n",
        "  \\textbf{W} \\textbf{z}^{t-1}\n",
        "  +\n",
        "  \\textbf{b}\n",
        ")\n",
        "$$\n",
        "\n",
        "活性化関数 $ f() $ を適用する。\n"
      ],
      "metadata": {
        "id": "lATowwkD7Dlm"
      }
    },
    {
      "cell_type": "markdown",
      "source": [
        "対応するコードは、以下。\n",
        "\n",
        "```python\n",
        "        z[:,t+1] = functions.sigmoid(u[:,t+1])\n",
        "```\n",
        "\n",
        "活性化関数は、シグモイド関数。\n"
      ],
      "metadata": {
        "id": "Swzc8KZzdtvu"
      }
    },
    {
      "cell_type": "markdown",
      "source": [
        "$ \\textbf{v}^t $ は、出力層の結果。\n",
        "重み $ \\textbf{W}_{(out)} $ を適用する。\n",
        "\n",
        "$$\n",
        "\\textbf{v}^t\n",
        "=\n",
        "\\textbf{W}_{(out)} \\textbf{z}^t + \\textbf{c}\n",
        "$$\n",
        "\n",
        "$ \\textbf{c} $ は、バイアス。\n"
      ],
      "metadata": {
        "id": "aqtvNmoX7uxC"
      }
    },
    {
      "cell_type": "markdown",
      "source": [
        "重み $ \\textbf{W}_{(out)} $ を適用して、\n",
        "その時間的順序の出力である、 $ \\textbf{y}^t $ を得る。\n",
        "\n",
        "$$\n",
        "\\textbf{y}^t = g(\n",
        "  \\textbf{W}_{(out)} \\textbf{z}^t + \\textbf{c}\n",
        ")\n",
        "$$\n"
      ],
      "metadata": {
        "id": "F40vkjPQaBpO"
      }
    },
    {
      "cell_type": "markdown",
      "source": [
        "$ \\textbf{v}^t, \\textbf{y}^t $ に対応するコードは、以下。\n",
        "\n",
        "```python\n",
        "        y[:,t] = functions.sigmoid(np.dot(z[:,t+1].reshape(1, -1), W_out))\n",
        "```\n",
        "\n",
        "ここでの活性化関数も、シグモイド関数。\n"
      ],
      "metadata": {
        "id": "Qzyt4r8vd9Qq"
      }
    },
    {
      "cell_type": "markdown",
      "source": [
        "##### 特徴\n",
        "\n",
        "再帰構造。\n",
        "\n",
        "page. 20 の図の右側の通り、\n",
        "$ z_{t} $ は $ z_{t - 1} $ の状態を保持し、\n",
        "遡ると、 $ z_{0} $ の状態も保持している。\n",
        "再帰的に次の時間的順序の結果が計算される。\n"
      ],
      "metadata": {
        "id": "Y9VHC_0nf8EK"
      }
    },
    {
      "cell_type": "markdown",
      "source": [
        "### 1-2 BPTT\n",
        "\n",
        "BPTT は、 BackproPagation Through Time の略である。\n",
        "RNN における、誤差逆伝播法によるパラメータ調整方法。\n"
      ],
      "metadata": {
        "id": "BKUZgm7sg2_V"
      }
    },
    {
      "cell_type": "markdown",
      "source": [
        "#### 1-2-2 BPTT の数学的記述\n"
      ],
      "metadata": {
        "id": "JMxuyR7CiZJJ"
      }
    },
    {
      "cell_type": "markdown",
      "source": [
        "##### 数学的記述とコード 1: 重みとバイアスの微分\n",
        "\n",
        "重み $ \\textbf{W}_{(in)} $ についての微分は以下の通り。\n",
        "\n",
        "$$\n",
        "\\frac{\\partial{E}}{\\partial{\\textbf{W}_{(in)}}}\n",
        "=\n",
        "\\frac{\\partial{E}}{\\partial{\\textbf{u}^t}}\n",
        "\\begin{bmatrix}\n",
        "  \\frac{\\partial{\\textbf{u}^t}}{\\partial{\\textbf{W}_{(in)}}}\n",
        "\\end{bmatrix}^\\textit{T}\n",
        "=\n",
        "\\delta^t\n",
        "[\\textbf{x}^t]^\\textit{T}\n",
        "$$\n",
        "\n",
        "$ \\delta^t $ は、誤差関数の微分を表したもの。\n",
        "\n",
        "$ \\begin{bmatrix}\\end{bmatrix}^\\textit{T} $ は、転置行列ではなく、 RNN において時間的順序を遡って計算することを意味する。\n"
      ],
      "metadata": {
        "id": "oQgJw8IpiiSl"
      }
    },
    {
      "cell_type": "markdown",
      "source": [
        "$ \\delta^t\n",
        "[\\textbf{x}^t]^\\textit{T} $ に対応するコードは以下の通り。\n",
        "\n",
        "```python\n",
        "# 勾配更新\n",
        "...\n",
        "W_in_grad += np.dot(X.T, delta[:,t].reshape(1,-1))\n",
        "```\n"
      ],
      "metadata": {
        "id": "xtUg23BosnB8"
      }
    },
    {
      "cell_type": "markdown",
      "source": [
        "重み $ \\textbf{W}_{(out)} $ についての微分は以下の通り。\n",
        "\n",
        "$$\n",
        "\\frac{\\partial{E}}{\\partial{\\textbf{W}_{(out)}}}\n",
        "=\n",
        "\\frac{\\partial{E}}{\\partial{\\textbf{v}^t}}\n",
        "\\begin{bmatrix}\n",
        "  \\frac{\\partial{\\textbf{v}^t}}{\\partial{\\textbf{W}_{(out)}}}\n",
        "\\end{bmatrix}^\\textit{T}\n",
        "=\n",
        "\\delta^{out, t}\n",
        "[\\textbf{z}^t]^\\textit{T}\n",
        "$$\n"
      ],
      "metadata": {
        "id": "vsaOKzME2WJk"
      }
    },
    {
      "cell_type": "markdown",
      "source": [
        "$ \\delta^{out, t}\n",
        "[\\textbf{z}^t]^\\textit{T} $ に対応するコードは以下の通り。\n",
        "\n",
        "```python\n",
        "# 勾配更新\n",
        "...\n",
        "W_out_grad += np.dot(z[:,t+1].reshape(-1,1), delta_out[:,t].reshape(-1,1))\n",
        "```\n"
      ],
      "metadata": {
        "id": "jYcDHHfp3vcM"
      }
    },
    {
      "cell_type": "markdown",
      "source": [
        "重み $ \\textbf{W} $ についての微分は以下の通り。\n",
        "\n",
        "$$\n",
        "\\frac{\\partial{E}}{\\partial{\\textbf{W}}}\n",
        "=\n",
        "\\frac{\\partial{E}}{\\partial{\\textbf{u}^t}}\n",
        "\\begin{bmatrix}\n",
        "  \\frac{\\partial{\\textbf{u}^t}}{\\partial{\\textbf{W}}}\n",
        "\\end{bmatrix}^\\textit{T}\n",
        "=\n",
        "\\delta^{t}\n",
        "[\\textbf{z}^{t-1}]^\\textit{T}\n",
        "$$\n"
      ],
      "metadata": {
        "id": "QLkEtslW4KJh"
      }
    },
    {
      "cell_type": "markdown",
      "source": [
        "$ \\delta^{t}\n",
        "[\\textbf{z}^{t-1}]^\\textit{T} $ に対応するコードは以下の通り。\n",
        "\n",
        "```python\n",
        "# 勾配更新\n",
        "...\n",
        "W_grad += np.dot(z[:,t].reshape(-1,1), delta[:,t].reshape(1,-1))\n",
        "```\n"
      ],
      "metadata": {
        "id": "2ICXl8Lh4qK2"
      }
    },
    {
      "cell_type": "markdown",
      "source": [
        "バイアス $ \\textbf{b} $ についての微分は以下の通り。\n",
        "\n",
        "$$\n",
        "\\frac{\\partial{E}}{\\partial{\\textbf{b}}}\n",
        "=\n",
        "\\frac{\\partial{E}}{\\partial{\\textbf{u}^t}}\n",
        "\\frac{\\partial{\\textbf{u}^t}}{\\partial{\\textbf{b}}}\n",
        "=\n",
        "\\delta^{t}\n",
        "$$\n",
        "\n",
        "$$\n",
        "\\because\n",
        "\\frac{\\partial{\\textbf{u}^t}}{\\partial{\\textbf{b}}} = 1\n",
        "$$\n",
        "\n",
        "$$\n",
        "\\textbf{u}^t = \\textbf{W}_{(in)} \\textbf{x}^t + \\textbf{W} \\textbf{x}^{t-1} + \\textbf{b}\n",
        "$$\n",
        "\n",
        "において、 $ \\textbf{W}_{(in)}, \\textbf{W} $ の 2 つに対してバイアスが考えられるが、\n",
        "足し合わされるので、合わせて $ \\textbf{b} $ としている。\n"
      ],
      "metadata": {
        "id": "kR-4C3mz5FOY"
      }
    },
    {
      "cell_type": "markdown",
      "source": [
        "バイアス $ \\textbf{c} $ についての微分は以下の通り。\n",
        "\n",
        "$$\n",
        "\\frac{\\partial{E}}{\\partial{\\textbf{c}}}\n",
        "=\n",
        "\\frac{\\partial{E}}{\\partial{\\textbf{v}^t}}\n",
        "\\frac{\\partial{\\textbf{v}^t}}{\\partial{\\textbf{c}}}\n",
        "=\n",
        "\\delta^{out, t}\n",
        "$$\n",
        "\n",
        "$$\n",
        "\\because\n",
        "\\frac{\\partial{\\textbf{v}^t}}{\\partial{\\textbf{c}}} = 1\n",
        "$$\n"
      ],
      "metadata": {
        "id": "YB4vaVFJ5iwk"
      }
    },
    {
      "cell_type": "markdown",
      "source": [
        "##### 数学的記述とコード 2: 順伝播\n"
      ],
      "metadata": {
        "id": "9L-uV5Tf53bR"
      }
    },
    {
      "cell_type": "markdown",
      "source": [
        "中間層の入力値である $ \\textbf{u}^t $ の数式は以下の通り。 ( page. 21 再掲 )\n",
        "\n",
        "$$\n",
        "\\textbf{u}^t = \\textbf{W}_{(in)} \\textbf{x}^t + \\textbf{W} \\textbf{z}^{t-1} + \\textbf{b}\n",
        "$$\n"
      ],
      "metadata": {
        "id": "SPeH7BShJ1b_"
      }
    },
    {
      "cell_type": "markdown",
      "source": [
        "中間層の計算結果 $ \\textbf{z}^t $ の数式は、以下の通り。 ( page. 21 再掲 )\n",
        "\n",
        "$$\n",
        "\\textbf{z}^t\n",
        "=\n",
        "f(\n",
        "  \\textbf{W}_{(in)} \\textbf{x}^t\n",
        "  +\n",
        "  \\textbf{W} \\textbf{z}^{t-1}\n",
        "  +\n",
        "  \\textbf{b}\n",
        ")\n",
        "$$\n"
      ],
      "metadata": {
        "id": "j6cvJxQSLgib"
      }
    },
    {
      "cell_type": "markdown",
      "source": [
        "出力層の結果 $ \\textbf{v}^t $ の数式は、以下の通り。 ( page. 22 再掲 )\n",
        "\n",
        "$$\n",
        "\\textbf{v}^t\n",
        "=\n",
        "\\textbf{W}_{(out)} \\textbf{z}^t + \\textbf{c}\n",
        "$$\n"
      ],
      "metadata": {
        "id": "J2sqAoj0MEBD"
      }
    },
    {
      "cell_type": "markdown",
      "source": [
        "出力 $ \\textbf{y}^t $ の数式は、以下の通り。 ( page. 22 再掲 )\n",
        "\n",
        "$$\n",
        "\\textbf{y}^t = g(\n",
        "  \\textbf{W}_{(out)} \\textbf{z}^t + \\textbf{c}\n",
        ")\n",
        "$$\n"
      ],
      "metadata": {
        "id": "SLQdyBb7MXgj"
      }
    },
    {
      "cell_type": "markdown",
      "source": [
        "##### 数学的記述とコード 3: $ \\delta^t $\n"
      ],
      "metadata": {
        "id": "2xPE_KJPZz34"
      }
    },
    {
      "cell_type": "markdown",
      "source": [
        "$$\n",
        "\\frac{\\partial{E}}{\\partial{\\textbf{u}^t}}\n",
        "=\n",
        "\\frac{\\partial{E}}{\\partial{\\textbf{v}^t}}\n",
        "\\frac{\\partial{\\textbf{v}^t}}{\\partial{\\textbf{u}^t}} \\\\\n",
        "=\n",
        "\\frac{\\partial{E}}{\\partial{\\textbf{v}^t}}\n",
        "\\frac{\\partial\n",
        "  \\{\n",
        "    \\textbf{W}_{(out)} f(\\textbf{u}^t) + \\textbf{c}\n",
        "  \\}\n",
        "}\n",
        "{\\partial{\\textbf{u}^t}} \\\\\n",
        "=\n",
        "f'(\\textbf{u}^t) \\textbf{W}_{(out)}^{\\textit{T}}\n",
        "\\delta^{out, t}\n",
        "$$\n",
        "\n",
        "$$\n",
        "\\because\n",
        "\\frac{\\partial{E}}{\\partial{\\textbf{v}^t}} = \\delta^{out, t}\n",
        "$$\n",
        "\n",
        "また、 $ \\textbf{W}^\\textit{T} $ は、時間的順序を遡って計算することを意味。<br>\n",
        "よって、 $ f'(\\textbf{u}^t) \\textbf{W}_{(out)}^{\\textit{T}} $ の部分は、<br>\n",
        "$ \\textbf{W}_{(out)} f(\\textbf{u}^t) $ を微分したもの。\n",
        "\n",
        "これを、 $ \\delta^t $ とおく。\n",
        "\n",
        "$$\n",
        "f'(\\textbf{u}^t) \\textbf{W}_{(out)}^{\\textit{T}}\n",
        "\\delta^{out, t}\n",
        "=\n",
        "\\delta^t\n",
        "$$\n"
      ],
      "metadata": {
        "id": "e0Zv0O9_Z6k6"
      }
    },
    {
      "cell_type": "markdown",
      "source": [
        "$ \\delta^{t} $ に対応するコードは、以下の通り。\n",
        "( 勾配更新の前の行 )\n",
        "\n",
        "```python\n",
        "delta[:,t] = (np.dot(delta[:,t+1].T, W.T) + np.dot(delta_out[:,t].T, W_out.T)) * functions.d_sigmoid(u[:,t+1])\n",
        "\n",
        "# 勾配更新\n",
        "...\n",
        "```\n"
      ],
      "metadata": {
        "id": "DKvmKiy8e7vl"
      }
    },
    {
      "cell_type": "markdown",
      "source": [
        "時間的順序を 1 つ遡った場合の、 $ \\delta^{t-1} $ は、\n",
        "\n",
        "$$\n",
        "\\delta^{t-1} = \\frac{\\partial{E}}{\\partial{\\textbf{u}^{t-1}}}\n",
        "=\n",
        "\\frac{\\partial{E}}{\\partial{\\textbf{u}^t}}\n",
        "\\frac{\\partial{\\textbf{u}^t}}{\\partial{\\textbf{u}^{t-1}}}\n",
        "$$\n",
        "\n",
        "これは、\n",
        "\n",
        "$$\n",
        "\\textbf{u}^t = \\textbf{W}_{(in)} \\textbf{x}^t + \\textbf{W} \\textbf{z}^{t-1} + \\textbf{b} \\\\\n",
        "=\n",
        "\\textbf{W}_{(in)} \\textbf{x}^t + \\textbf{W} f(\\textbf{u}^{t-1}) + \\textbf{b}\n",
        "$$\n",
        "\n",
        "として、 $ \\textbf{u}^{t-1} $ で微分できるから、<br>\n",
        "$ \\textbf{z}^{t-1} $ を経由して、\n",
        "\n",
        "$$\n",
        "=\n",
        "\\delta^t\n",
        "\\{\n",
        "  \\frac{\\partial{\\textbf{u}^t}}{\\partial{\\textbf{z}^{t-1}}}\n",
        "  \\frac{\\partial{\\textbf{z}^{t-1}}}{\\partial{\\textbf{u}^{t-1}}}\n",
        "\\} \\\\\n",
        "=\n",
        "\\delta^t\n",
        "\\{\n",
        "  \\textbf{W} f'(\\textbf{u}^{t-1})\n",
        "\\}\n",
        "$$\n"
      ],
      "metadata": {
        "id": "JVHZmSIRdIX9"
      }
    },
    {
      "cell_type": "markdown",
      "source": [
        "$$\n",
        "\\because\n",
        "\\frac{\\partial{\\textbf{u}^t}}{\\partial{\\textbf{z}^{t-1}}}\n",
        "=\n",
        "\\frac{\n",
        "  \\partial\n",
        "  \\{\n",
        "    \\textbf{W}_{(in)} \\textbf{x}^t + \\textbf{W} \\textbf{z}^{t-1} + \\textbf{b}\n",
        "  \\}\n",
        "}\n",
        "{\\partial{\\textbf{z}^{t-1}}} \\\\\n",
        "= \\textbf{W} \\\\\n",
        "$$\n",
        "\n",
        "$$\n",
        "\\frac{\\partial{\\textbf{z}^{t-1}}}{\\partial{\\textbf{u}^{t-1}}}\n",
        "=\n",
        "\\frac{\\partial\n",
        "  \\{\n",
        "    f(\\textbf{u}^{t-1})\n",
        "  \\}\n",
        "}\n",
        "{\\partial{\\textbf{u}^{t-1}}}\n",
        "=\n",
        "f'(\\textbf{u}^{t-1})\n",
        "$$\n"
      ],
      "metadata": {
        "id": "p0m-9DmSm5lp"
      }
    },
    {
      "cell_type": "markdown",
      "source": [
        "さらに、時間的順序において z 回遡る場合、<br>\n",
        "( z は、中間層の結果 $ \\textbf{z} $ とは別 )\n",
        "\n",
        "$$\n",
        "\\delta^{t-z-1}\n",
        "=\n",
        "\\delta^{t-z}\n",
        "\\{\n",
        "  \\textbf{W} f'(\\textbf{u}^{t-z-1})\n",
        "\\}\n",
        "$$\n",
        "\n",
        "t - z 時間と、 t - z - 1 時間との関係を表す。\n"
      ],
      "metadata": {
        "id": "ipWqsWKhmb2m"
      }
    },
    {
      "cell_type": "markdown",
      "source": [
        "##### 数学的記述とコード 4: パラメータの更新\n"
      ],
      "metadata": {
        "id": "igJjGOISnvCT"
      }
    },
    {
      "cell_type": "markdown",
      "source": [
        "入力層の重み $ \\textbf{W}_{(in)} $ の更新は、以下の通り。\n",
        "\n",
        "$$\n",
        "\\textbf{W}_{(in)}^{t+1}\n",
        "=\n",
        "\\textbf{W}_{(in)}^{t}\n",
        "-\n",
        "\\epsilon \\frac{\\partial{E}}{\\partial{\\textbf{W}_{(in)}}} \\\\\n",
        "=\n",
        "\\textbf{W}_{(in)}^{t}\n",
        "-\n",
        "\\epsilon \\sum_{z=0}^{\\textit{T}_t}\n",
        "\\delta^{t-z}\n",
        "\\begin{bmatrix}\n",
        "\\textbf{x}^{t-z}\n",
        "\\end{bmatrix}^\\textit{T}\n",
        "$$\n"
      ],
      "metadata": {
        "id": "HoKfiBrKn82R"
      }
    },
    {
      "cell_type": "markdown",
      "source": [
        "出力層の重み $ \\textbf{W}_{(out)} $ の更新は、以下の通り。\n",
        "\n",
        "$$\n",
        "\\textbf{W}_{(out)}^{t+1}\n",
        "=\n",
        "\\textbf{W}_{(out)}^{t}\n",
        "-\n",
        "\\epsilon \\frac{\\partial{E}}{\\partial{\\textbf{W}_{(out)}}} \\\\\n",
        "=\n",
        "\\textbf{W}_{(out)}^{t}\n",
        "-\n",
        "\\epsilon\n",
        "\\delta^{out, t}\n",
        "\\begin{bmatrix}\n",
        "\\textbf{z}^{t}\n",
        "\\end{bmatrix}^\\textit{T}\n",
        "$$\n",
        "\n",
        "出力層への重みでは、前の時間的順序へ遡って計算しないので、 $ \\sum_{z=0}^{\\textit{T}_t} $ の総和はしない。\n"
      ],
      "metadata": {
        "id": "btZusnV-iZ5W"
      }
    },
    {
      "cell_type": "markdown",
      "source": [
        "中間層の重み $ \\textbf{W} $ の更新は、以下の通り。\n",
        "\n",
        "$$\n",
        "\\textbf{W}^{t+1}\n",
        "=\n",
        "\\textbf{W}^{t}\n",
        "-\n",
        "\\epsilon \\frac{\\partial{E}}{\\partial{\\textbf{W}}} \\\\\n",
        "=\n",
        "\\textbf{W}_{(in)}^{t}\n",
        "-\n",
        "\\epsilon \\sum_{z=0}^{\\textit{T}_t}\n",
        "\\delta^{t-z}\n",
        "\\begin{bmatrix}\n",
        "\\textbf{z}^{t-z-1}\n",
        "\\end{bmatrix}^\\textit{T}\n",
        "$$\n"
      ],
      "metadata": {
        "id": "dACkFjVpx1Sz"
      }
    },
    {
      "cell_type": "markdown",
      "source": [
        "重みの更新に対応するコードは、以下の通り。\n",
        "\n",
        "```python\n",
        "    # 勾配適用\n",
        "    W_in -= learning_rate * W_in_grad\n",
        "    W_out -= learning_rate * W_out_grad\n",
        "    W -= learning_rate * W_grad\n",
        "```\n"
      ],
      "metadata": {
        "id": "FD7NfrDcFJ24"
      }
    },
    {
      "cell_type": "markdown",
      "source": [
        "入力層、中間層のバイアスの更新は、以下の通り。\n",
        "\n",
        "$$\n",
        "\\textbf{b}^{t+1}\n",
        "=\n",
        "\\textbf{b}^{t}\n",
        "-\n",
        "\\epsilon \\frac{\\partial{E}}{\\partial{\\textbf{b}}} \\\\\n",
        "=\n",
        "\\textbf{b}^{t}\n",
        "-\n",
        "\\epsilon \\sum_{z=0}^{\\textit{T}_t}\n",
        "\\delta^{t-z}\n",
        "$$\n"
      ],
      "metadata": {
        "id": "t-Evnzr-yeOy"
      }
    },
    {
      "cell_type": "markdown",
      "source": [
        "$$\n",
        "\\textbf{c}^{t+1}\n",
        "=\n",
        "\\textbf{c}^{t}\n",
        "-\n",
        "\\epsilon \\frac{\\partial{E}}{\\partial{\\textbf{c}}} \\\\\n",
        "=\n",
        "\\textbf{c}^{t}\n",
        "-\n",
        "\\epsilon\n",
        "\\delta^{out, t}\n",
        "$$\n",
        "\n",
        "出力層でのバイアスも、前の時間的順序へ遡って計算しないので、 $ \\sum_{z=0}^{\\textit{T}_t} $ の総和はしない。\n"
      ],
      "metadata": {
        "id": "bciby5q7zJQB"
      }
    },
    {
      "cell_type": "markdown",
      "source": [
        "#### 1-2-3 BPTT の全体像\n",
        "\n",
        "$$\n",
        "E^\\textit{t} = loss(\\textbf{y}^t, \\textbf{d}^t) \\\\\n",
        "= loss(g(\\textbf{W}_{(out)} \\textbf{W} + \\textbf{c}), \\textbf{d}^t) \\\\\n",
        "= loss(g(\n",
        "  \\textbf{W}_{(out)}\n",
        "  f(\n",
        "    \\textbf{W}_{(in)} \\textbf{x}^t + \\textbf{W} \\textbf{z}^{t-1} + \\textbf{b}\n",
        "  )\n",
        "  +\n",
        "  \\textbf{c}\n",
        "  ), \\textbf{d}^t)\n",
        "$$\n"
      ],
      "metadata": {
        "id": "DLJE0P71E_S4"
      }
    },
    {
      "cell_type": "markdown",
      "source": [
        "ここで、\n",
        "\n",
        "$$\n",
        "  f(\n",
        "    \\textbf{W}_{(in)} \\textbf{x}^t + \\textbf{W} \\textbf{z}^{t-1} + \\textbf{b}\n",
        "  )\n",
        "$$\n",
        "\n",
        "の、 $ f() $ の中の部分をさらに展開すると、\n"
      ],
      "metadata": {
        "id": "jxrGZHqAHwnU"
      }
    },
    {
      "cell_type": "markdown",
      "source": [
        "$$\n",
        "\\textbf{W}_{(in)} \\textbf{x}^t + \\textbf{W} \\textbf{z}^{t-1} + \\textbf{b}\n",
        "$$\n",
        "\n",
        "$$\n",
        "\\textbf{W}_{(in)} \\textbf{x}^t + \\textbf{W} f(u^{t-1}) + \\textbf{b}\n",
        "$$\n",
        "\n",
        "$$\n",
        "\\textbf{W}_{(in)} \\textbf{x}^t\n",
        "+\n",
        "\\textbf{W}\n",
        "  f(\n",
        "    \\textbf{W}_{(in)} \\textbf{x}^{t-1}\n",
        "    +\n",
        "    \\textbf{W} \\textbf{z}^{t-2} + \\textbf{b}\n",
        "  )\n",
        "+\n",
        "\\textbf{b}\n",
        "$$\n"
      ],
      "metadata": {
        "id": "N4jIctkCH1eb"
      }
    },
    {
      "cell_type": "markdown",
      "source": [
        "\n",
        "$ z^t, z^{t-1}, z^{t-2} $ と、過去の時間を数珠繋がり、マトリョーシカの人形の様に入れ子に計算されていることを表す。\n"
      ],
      "metadata": {
        "id": "TJNGVLrfHOuJ"
      }
    },
    {
      "cell_type": "markdown",
      "metadata": {
        "id": "dn0nkaSx8-Em"
      },
      "source": [
        "## 2. 確認テスト\n",
        "\n",
        "以降の \"page. \" は、講義資料のページの番号です。\n"
      ]
    },
    {
      "cell_type": "markdown",
      "source": [
        "### page. 11\n",
        "\n",
        "公式より、\n",
        "\n",
        "$$\n",
        "\\frac{\n",
        "  入力画像サイズ + 2 \\times パディング - フィルターサイズ\n",
        "}{ストライド}\n",
        "+ 1\n",
        "$$\n",
        "\n",
        "$$\n",
        "=\n",
        "\\frac{\n",
        "  5 + 2 \\times 1 - 3\n",
        "}{2}\n",
        "+ 1\n",
        "= 3\n",
        "$$\n",
        "\n",
        "よって、出力画像のサイズは、 3 x 3 。\n"
      ],
      "metadata": {
        "id": "42Y3w3zJIx1p"
      }
    },
    {
      "cell_type": "markdown",
      "source": [
        "### page. 23\n",
        "\n",
        "残り 1 つの重みは、\n",
        "\n",
        "- $ \\textbf{W} $<br>\n",
        "  中間層の計算結果 $ z_i $ を、\n",
        "  次の時間的順序の中間層 $ z_{i+1} $ に適用する重み。\n"
      ],
      "metadata": {
        "id": "ecJfUqHEI749"
      }
    },
    {
      "cell_type": "markdown",
      "source": [
        "### page. 36\n",
        "\n",
        "$$\n",
        "\\frac{dz}{dx}\n",
        "=\n",
        "\\frac{dz}{dt}\n",
        "\\frac{dt}{dx} \\\\\n",
        "=\n",
        "2t \\times 1\n",
        "=\n",
        "2(x + y)\n",
        "$$\n"
      ],
      "metadata": {
        "id": "POhhCg6DJCfn"
      }
    },
    {
      "cell_type": "markdown",
      "source": [
        "### page. 45\n",
        "\n",
        "$$\n",
        "\\textbf{y}^t = g(\n",
        "  \\textbf{W}_{(out)} \\textbf{z}^t + \\textbf{c}\n",
        ")\n",
        "$$\n",
        "\n",
        "より、今回の図では、中間層の部分が、 $ \\textbf{s}_t $ であるから、\n",
        "\n",
        "$$\n",
        "\\textbf{y}^1 = g(\n",
        "  \\textbf{W}_{(out)} \\textbf{s}^1 + \\textbf{c}\n",
        ")\n",
        "\\tag{1}\n",
        "$$\n"
      ],
      "metadata": {
        "id": "TrIzOU9TJI2x"
      }
    },
    {
      "cell_type": "markdown",
      "source": [
        "$$\n",
        "\\textbf{z}^t\n",
        "=\n",
        "f(\n",
        "  \\textbf{W}_{(in)} \\textbf{x}^t\n",
        "  +\n",
        "  \\textbf{W} \\textbf{z}^{t-1}\n",
        "  +\n",
        "  \\textbf{b}\n",
        ")\n",
        "$$\n",
        "\n",
        "より、同様に、\n",
        "\n",
        "$$\n",
        "\\textbf{s}^1\n",
        "=\n",
        "f(\n",
        "  \\textbf{W}_{(in)} \\textbf{x}^1\n",
        "  +\n",
        "  \\textbf{W} \\textbf{s}^{1-1}\n",
        "  +\n",
        "  \\textbf{b}\n",
        ")\n",
        "=\n",
        "f(\n",
        "  \\textbf{W}_{(in)} \\textbf{x}^1\n",
        "  +\n",
        "  \\textbf{W} \\textbf{s}^{0}\n",
        "  +\n",
        "  \\textbf{b}\n",
        ")\n",
        "\\tag{2}\n",
        "$$\n"
      ],
      "metadata": {
        "id": "PGEmY4E-Yy2b"
      }
    },
    {
      "cell_type": "markdown",
      "source": [
        "$ y_1 $ は、 (1) と (2) から成る。\n"
      ],
      "metadata": {
        "id": "FPpnyeesZNbj"
      }
    }
  ]
}