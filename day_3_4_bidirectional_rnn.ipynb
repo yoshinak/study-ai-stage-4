{
  "nbformat": 4,
  "nbformat_minor": 0,
  "metadata": {
    "colab": {
      "name": "day-3-4-bidirectional-rnn.ipynb",
      "provenance": [],
      "collapsed_sections": [],
      "toc_visible": true,
      "authorship_tag": "ABX9TyMK9hUrcu3tBNW+wXC9chph"
    },
    "kernelspec": {
      "name": "python3",
      "display_name": "Python 3"
    },
    "language_info": {
      "name": "python"
    }
  },
  "cells": [
    {
      "cell_type": "markdown",
      "metadata": {
        "id": "Adnxs5kDc2pd"
      },
      "source": [
        "# (day3) Section 4: 双方向RNN\n",
        "\n",
        "本書は、「深層学習後編（day3）レポート」の、「Section 4: 双方向RNN」についてのものです。\n"
      ]
    },
    {
      "cell_type": "markdown",
      "metadata": {
        "id": "9_jMHYWudCh3"
      },
      "source": [
        "## 1. 要点まとめ\n"
      ]
    },
    {
      "cell_type": "markdown",
      "source": [
        "<!-- - page. 93 - 96\n",
        "\n",
        "- Section 4: 双方向RNN -->\n"
      ],
      "metadata": {
        "id": "FMgQtbvVDjmq"
      }
    },
    {
      "cell_type": "markdown",
      "source": [
        "双方向 RNN は過去の情報と、未来の情報を使って精度を向上したモデル。\n",
        "既に全文が分かっている、文章の推敲や機械翻訳に使用する。\n"
      ],
      "metadata": {
        "id": "flTiCzRNT9QR"
      }
    },
    {
      "cell_type": "markdown",
      "source": [
        "page. 94 の図において、\n",
        "\n",
        "$$\n",
        "s_1, \\cdots, s_4\n",
        "$$\n",
        "\n",
        "が、過去方向 ( 順方向 ) の情報の流れ、\n",
        "\n",
        "$$\n",
        "s_4', \\cdots, s_1'\n",
        "$$\n",
        "\n",
        "が、未来方向 ( 逆方向 ) の情報の流れ。\n"
      ],
      "metadata": {
        "id": "eQ2ONji3UPux"
      }
    },
    {
      "cell_type": "markdown",
      "source": [
        "page. 95 の重みとの関連は、\n",
        "\n",
        "- 順方向\n",
        "  - `W_f` : $ x_t \\to s_t $ での重み\n",
        "  - `U_f` : $ s_{(t-1)} \\to s_t $ での重み\n",
        "\n",
        "- 逆方向\n",
        "  - `W_b` : $ x_t \\to s_t' $ での重み\n",
        "  - `U_b` : $ s_t' \\to s_{(t-1)}' $ での重み\n",
        "\n",
        "最終的に、 $ s_t \\to y_t $, $ s_t' \\to y_t $ で出力される $ y_t $ に対して、\n",
        "重み `V` が使用される。\n",
        "\n",
        "<!-- (3)? NG, (4) -->\n",
        "\n",
        "この部分に対応するのが、以下。\n",
        "\n",
        "```python\n",
        "hs = [np.concatenate(h_f, h_b[::-1], axis=1) for h_f, h_b in zip(hs_f, hs_b)]\n",
        "```\n",
        "\n",
        "`axis=1` を指定するのは、以下に様に結合するため。\n",
        "\n",
        "- NOTE: [numpy.concatenate — NumPy v1.21 Manual](https://numpy.org/doc/stable/reference/generated/numpy.concatenate.html)"
      ],
      "metadata": {
        "id": "W0d8Ad-LVGr0"
      }
    },
    {
      "cell_type": "code",
      "source": [
        "import numpy as np"
      ],
      "metadata": {
        "id": "7ycBV0pYYwEe"
      },
      "execution_count": null,
      "outputs": []
    },
    {
      "cell_type": "code",
      "source": [
        "h_f = np.array([[1], [2], [3], [4]])\n",
        "h_b = np.array([[5], [6], [7], [8]])\n",
        "\n",
        "np.concatenate((h_f, h_b), axis=1)\n"
      ],
      "metadata": {
        "colab": {
          "base_uri": "https://localhost:8080/"
        },
        "id": "wXNxsHK3Y4n8",
        "outputId": "d02ce65d-f8fc-44a2-a360-69471212371a"
      },
      "execution_count": null,
      "outputs": [
        {
          "output_type": "execute_result",
          "data": {
            "text/plain": [
              "array([[1, 5],\n",
              "       [2, 6],\n",
              "       [3, 7],\n",
              "       [4, 8]])"
            ]
          },
          "metadata": {},
          "execution_count": 9
        }
      ]
    }
  ]
}