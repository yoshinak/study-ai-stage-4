{
  "nbformat": 4,
  "nbformat_minor": 0,
  "metadata": {
    "colab": {
      "name": "day-3-2-lgtm.ipynb",
      "provenance": [],
      "collapsed_sections": [],
      "toc_visible": true,
      "authorship_tag": "ABX9TyOl7MDFYWvSn/uyYnsgknbn"
    },
    "kernelspec": {
      "name": "python3",
      "display_name": "Python 3"
    },
    "language_info": {
      "name": "python"
    }
  },
  "cells": [
    {
      "cell_type": "markdown",
      "metadata": {
        "id": "Adnxs5kDc2pd"
      },
      "source": [
        "# (day3) Section 2: LGTM ( Long Short Term Memory )\n",
        "\n",
        "本書は、「深層学習後編（day3）レポート」の、「Section 2: LGTM」についてのものです。\n"
      ]
    },
    {
      "cell_type": "markdown",
      "metadata": {
        "id": "9_jMHYWudCh3"
      },
      "source": [
        "## 1. 要点まとめ\n"
      ]
    },
    {
      "cell_type": "markdown",
      "source": [
        "<!-- - page. 55 - 83\n",
        "\n",
        "- Section 2: LGTM\n",
        "  - RNN の課題\n",
        "  - 勾配爆発\n",
        "    - 勾配のクリッピング\n",
        "  - LSTM の全体図\n",
        "  - 2-1 CEC\n",
        "    - 数式\n",
        "    - 課題\n",
        "  - 2-2 入力ゲートと出力ゲート\n",
        "    - 入力ゲート\n",
        "    - 出力ゲート\n",
        "    - CEC の課題解決\n",
        "  - 2-3 忘却ゲート\n",
        "    - LSTM ブロックの課題\n",
        "  - 2-4 覗き穴結合\n",
        "    - CEC の課題解決 -->\n"
      ],
      "metadata": {
        "id": "FMgQtbvVDjmq"
      }
    },
    {
      "cell_type": "markdown",
      "source": [
        "### RNN の課題\n",
        "\n",
        "RNN では、時系列 ( 時間的順序 ) を遡る。よって、その過程で ( NN よりさらに ) 勾配を消失しやすい。\n",
        "\n",
        "これを構造によって、解決したものが LSTM である。\n"
      ],
      "metadata": {
        "id": "txKMlQ8eFyem"
      }
    },
    {
      "cell_type": "markdown",
      "source": [
        "### 勾配爆発\n",
        "\n",
        "勾配消失は、勾配が 0 に近づいていくことに対して、<br>\n",
        "勾配爆発は、逆伝播の過程で勾配が指数関数的に大きくなってしまうこと。\n",
        "( 勾配が発散してしまう )\n"
      ],
      "metadata": {
        "id": "GXiWnw-zHK4c"
      }
    },
    {
      "cell_type": "markdown",
      "source": [
        "#### 勾配のクリッピング\n",
        "\n",
        "勾配爆発を防ぐための手法。<br>\n",
        "勾配のノルムがしきい値を超えたら、勾配のノルムをしきい値に正規化する。\n",
        "\n",
        "勾配のしきい値を $ M $ 、勾配を $ g $ として、以下の上限値に正規化する。\n",
        "\n",
        "$$\n",
        "g = \\frac{M}{\\Vert g \\Vert} g\n",
        "$$\n",
        "\n",
        "$ \\Vert g \\Vert $ は、 $ g $ の L2 ノルム。\n",
        "\n",
        "- NOTE: 参考: [勾配消失問題と勾配爆発問題～原因と解決策～ | マサムネの部屋](https://masamunetogetoge.com/gradient-vanish)\n",
        "\n",
        "page. 64 の `rate` は、 $ \\frac{M}{\\Vert g \\Vert} $ に対応する。\n",
        "( `threshold` が $ M $ )\n",
        "\n",
        "よって、 L2 ノルムが上限値 $ M $ を超えたら、\n",
        "`rate` が 1 より小さくなるので、\n",
        "$ \\frac{M}{\\Vert g \\Vert} g $ を返却する。\n"
      ],
      "metadata": {
        "id": "mYy6Gn2-Hjd_"
      }
    },
    {
      "cell_type": "markdown",
      "source": [
        "### LSTM の全体図\n",
        "\n",
        "LSTM の要素は、以下の通り。\n"
      ],
      "metadata": {
        "id": "dVxhy10uSqO6"
      }
    },
    {
      "cell_type": "markdown",
      "source": [
        "#### 主となる流れ ( 図の下部分の、水平方向の現在時間実線上の要素 )\n",
        "\n",
        "過去の学習を記憶する CEC を中心とした流れである。\n",
        "\n",
        "- 入力層からの、中間層への、時間 t の入力\n",
        "\n",
        "$$\n",
        "\\textbf{x}(t) \\textbf{W}_a\n",
        "$$\n",
        "\n",
        "- 中間層 ( 前回 ) からの、中間層への、時間 t -1 の入力\n",
        "\n",
        "$$\n",
        "fx(\n",
        "  \\textbf{u}_a  h(t-1)\n",
        "  )\n",
        "$$\n",
        "\n",
        "- CEC の前の、内積演算ユニットへの入力\n",
        "\n",
        "$$\n",
        "a(t) = f(\n",
        "  \\textbf{x}(t) \\textbf{W}_a\n",
        "  fx(\n",
        "    \\textbf{u}_a  h(t-1)\n",
        "    )\n",
        ")\n",
        "$$\n",
        "\n",
        "$$\n",
        "i(t)\n",
        "$$\n",
        "\n",
        "- CEC への入力\n",
        "  - NOTE: page. 79 の、「演習チャレンジ」の箇所に該当。<br>\n",
        "    入力ゲートからと、忘却ゲートの 2 方向からの入力がある。<br>\n",
        "    `input_gate * a + forget_gate + c`<br>\n",
        "    `forget_gate` が、 $ f(t) $ である。\n",
        "\n",
        "$$\n",
        "i(t) \\cdot a(t)\n",
        "$$\n",
        "\n",
        "$$\n",
        "1.0 \\times f(t) \\times c(t- 1)\n",
        "$$\n",
        "\n",
        "- **CEC の演算結果**: CEC の後の、活性化関数への出力\n",
        "\n",
        "$$\n",
        "c(t) = i(t) \\cdot a(t) + f(t) \\cdot c(t - 1)\n",
        "$$\n",
        "\n",
        "- CEC の後の、内積演算ユニットの出力\n",
        "\n",
        "$$\n",
        "o(t) \\cdot g(c(t))\n",
        "$$\n",
        "\n",
        "- 出力層への出力\n",
        "\n",
        "$$\n",
        "h(t) = o(t) \\cdot g(c(t))\n",
        "$$\n",
        "\n",
        "- CEC: Constant Error Carousel<br>\n",
        "  中間層の出力値を記憶する。\n"
      ],
      "metadata": {
        "id": "9he4UH8-XbDD"
      }
    },
    {
      "cell_type": "markdown",
      "source": [
        "- NOTE: 図左上の $ fx $ は、この図全体の、中間層全体のことを表す関数と理解した。<br>\n",
        "  入力 $ \\textbf{x}(t) $ から、出力 $ h(t) $ を出力する、以下の関数。\n",
        "\n",
        "$$ h(t) = fx( \\textbf{x}(t) ) $$\n",
        "\n",
        "- 黒点線の対象が、「9隠れ層がブロック構造になる(LSTMブロック)」の対象。<br>\n",
        "\n",
        "- NOTE: 黒点線左側に重なる、 $ \\textbf{x}(t) $ は、この「ブロック」のことではなく、\n",
        "  左側の赤実線の内容と理解した。<br>\n",
        "  page. 80 のコードの以下に該当する部分と理解した。<br>\n",
        "  `a, i, f, o = np.hsplit(lstm_in, 4)`\n"
      ],
      "metadata": {
        "id": "ET26jseGhxwO"
      }
    },
    {
      "cell_type": "markdown",
      "source": [
        "#### 中間層の入力から 入力/忘却/出力ゲートへの流れ ( 赤色現在時間実線 )\n",
        "\n",
        "記憶することだけを機能とした CEC 代わり、学習を担う各ゲートへの流れである。\n",
        "\n",
        "- 入力ゲートへの入力\n",
        "\n",
        "$$\n",
        "\\textbf{x}(t) \\textbf{W}_i\n",
        "$$\n",
        "\n",
        "- 忘却ゲートへの入力\n",
        "\n",
        "$$\n",
        "\\textbf{x}(t) \\textbf{W}_f\n",
        "$$\n",
        "\n",
        "- 出力ゲートへの入力\n",
        "\n",
        "$$\n",
        "\\textbf{x}(t) \\textbf{W}_o\n",
        "$$\n"
      ],
      "metadata": {
        "id": "9JRPIKfAZQUv"
      }
    },
    {
      "cell_type": "markdown",
      "source": [
        "#### 中間層の出力結果からの流れ ( 水色過去時間点線 )\n",
        "\n",
        "- 中間層 ( 前回 ) からの、中間層への、時間 t -1 の入力 ( 再掲 )\n",
        "\n",
        "$$\n",
        "fx(\n",
        "  \\textbf{U}_a  h(t-1)\n",
        "  )\n",
        "$$\n",
        "\n",
        "- 入力ゲートへの入力\n",
        "\n",
        "$$\n",
        "h(t -1) \\textbf{u}_i\n",
        "$$\n",
        "\n",
        "- 忘却ゲートへの入力\n",
        "\n",
        "$$\n",
        "h(t -1) \\textbf{u}_f\n",
        "$$\n",
        "\n",
        "- 出力ゲートへの入力\n",
        "\n",
        "$$\n",
        "h(t -1) \\textbf{u}_o\n",
        "$$\n"
      ],
      "metadata": {
        "id": "5fkiZAeKfgly"
      }
    },
    {
      "cell_type": "markdown",
      "source": [
        "#### 覗き穴結合の流れ ( 薄緑現在時間実線 )\n",
        "\n",
        "- CEC の前の、内積演算ユニットへの入力 ( 再掲 )\n",
        "\n",
        "$$\n",
        "i(t) = \\sigma (\n",
        "  \\textbf{x} \\textbf{W}_i\n",
        "  h(t -1) \\textbf{u}_i\n",
        ")\n",
        "$$\n",
        "\n",
        "- x 1.0 ユニット / 内積演算ユニットへの入力\n",
        "\n",
        "$$\n",
        "\\sigma(\n",
        "  \\textbf{x}(t) \\textbf{W}_f\n",
        "  h(t -1) \\textbf{u}_f\n",
        "  \\textbf{V}_{fc}(t - 1)\n",
        ")\n",
        "$$\n",
        "\n",
        "- CEC への入力: 自己ループ ( 再掲 )\n",
        "\n",
        "$$\n",
        "1.0 \\times f(t) \\times c(t- 1) c(t- 1)\n",
        "$$\n",
        "\n",
        "- 出力ゲートへの入力\n",
        "\n",
        "$$\n",
        "\\textbf{V}_{o} c(t) o(t)\n",
        "$$\n",
        "\n",
        "- CEC の後の、内積演算ユニットへの入力\n",
        "\n",
        "$$\n",
        "o(t) = \\sigma (\n",
        "  \\textbf{x} \\textbf{W}_o\n",
        "  h(t -1) \\textbf{u}_o\n",
        ")\n",
        "$$\n"
      ],
      "metadata": {
        "id": "KIV7Tw94ghES"
      }
    },
    {
      "cell_type": "markdown",
      "source": [
        "#### 覗き穴結合の流れ ( 薄緑過去時間点線 )\n",
        "\n",
        "- 入力ゲートへの入力\n",
        "\n",
        "$$\n",
        "\\textbf{V}_i c(t -1)\n",
        "$$\n",
        "\n",
        "- x 1.0 ユニット / 内積演算ユニットへの入力: 自己ループ\n",
        "\n",
        "$$\n",
        "1.0 \\times f(t) \\times c(t- 1) c(t- 1)\n",
        "$$\n",
        "\n",
        "- 忘却ゲートへの入力\n",
        "\n",
        "$$\n",
        "\\textbf{V}_{fc} (t -1)\n",
        "$$\n"
      ],
      "metadata": {
        "id": "Xd2gk3L-ksxv"
      }
    },
    {
      "cell_type": "markdown",
      "source": [
        "### 2-1 CEC\n",
        "\n",
        "RNN では中間層全体で、過去の中間層の出力値を記憶していた。<br>\n",
        "LSTM では、役割を分離して、過去の中間層の出力値を記憶を CEC が担っている。\n"
      ],
      "metadata": {
        "id": "bG-j4qgFm1NS"
      }
    },
    {
      "cell_type": "markdown",
      "source": [
        "#### 数式\n",
        "\n",
        "$$\n",
        "\\delta^{t-z-1}\n",
        "=\n",
        "\\delta^{t-z} \\{\n",
        "  \\textbf{W} f'(\n",
        "    \\textbf{u^{t-z-1}}\n",
        "  )\n",
        "\\} = 1\n",
        "$$\n",
        "\n",
        "勾配を 1 にして勾配消失と勾配爆発を回避する。\n",
        "\n",
        "$$\n",
        "\\frac{\\partial{E}}\n",
        "{\\partial{c^{t-1}}}\n",
        "=\n",
        "\\frac{\\partial{E}}\n",
        "{\\partial{c^{t}}}\n",
        "\\frac{\\partial{c^{t}}}\n",
        "{\\partial{c^{t-1}}} \\\\\n",
        "=\n",
        "\\frac{\\partial{E}}\n",
        "{\\partial{c^{t}}}\n",
        "\\frac{\\partial \\{\n",
        "    a^t - c^{t-1}\n",
        "  \\}\n",
        "}\n",
        "{\\partial{c^{t-1}}} \\\\\n",
        "=\n",
        "\\frac{\\partial{E}}\n",
        "{\\partial{c^{t}}}\n",
        "$$\n",
        "\n",
        "- NOTE: 以下は -1 では?\n",
        "\n",
        "$$\n",
        "\\frac{\\partial \\{\n",
        "    a^t - c^{t-1}\n",
        "  \\}\n",
        "}\n",
        "{\\partial{c^{t-1}}}\n",
        "$$\n"
      ],
      "metadata": {
        "id": "OZh6yzg8nRzN"
      }
    },
    {
      "cell_type": "markdown",
      "source": [
        "#### 課題\n",
        "\n",
        "CEC では時間的依存度に関係なく重みが一律であるため、 NN 内の学習特性が得られない。\n",
        "\n",
        "CEC の代わりに学習機能を持たせて、 CEC に何を記憶させるかと、どう使うかを制御する必要がある。\n",
        "\n",
        "- TODO: 入力重み衝突?\n"
      ],
      "metadata": {
        "id": "0NQw8j6Bdert"
      }
    },
    {
      "cell_type": "markdown",
      "source": [
        "### 2-2 入力ゲートと出力ゲート\n",
        "\n",
        "CEC の課題を解決するため、入力ゲートと出力ゲートを追加する。<br>\n",
        "それぞれのゲートへの入力値への重みを、重み行列 W, U で可変にする。\n"
      ],
      "metadata": {
        "id": "yQ8j9El6eJiu"
      }
    },
    {
      "cell_type": "markdown",
      "source": [
        "- 入力ゲート<br>\n",
        "  今回の入力値 ( page. 60: 赤実線 ) と、前回の出力値 ( page. 60: 水色点線 ) をもとに、<br>\n",
        "  CEC に何を記憶させるかを学習する。<br>\n",
        "  - 今回の入力値に対する重み: $ \\textbf{W}_i $\n",
        "  - 前回の出力値に対する重み: $ \\textbf{u}_i $\n",
        "\n",
        "- 出力ゲート<br>\n",
        "  今回の入力値 ( page. 60: 赤実線 ) と、前回の出力値 ( page. 60: 水色点線 ) をもとに、<br>\n",
        "  CEC の出力を、 (出力層への出力として) どう使うかを学習する。\n",
        "  - 今回の入力値に対する重み: $ \\textbf{W}_o $\n",
        "  - 前回の出力値に対する重み: $ \\textbf{u}_o $\n"
      ],
      "metadata": {
        "id": "5HDvIJLgrFsZ"
      }
    },
    {
      "cell_type": "markdown",
      "source": [
        "### 2-3 忘却ゲート\n",
        "\n",
        "CEC は、過去の情報を全て保管する。<br>\n",
        "過去の情報を削除できず、保管され続けてしまう課題がある。\n",
        "\n",
        "過去の情報が不要となったタイミングで、忘却するための機能として、忘却ゲートを追加する。\n"
      ],
      "metadata": {
        "id": "5hJBdPNMevQ1"
      }
    },
    {
      "cell_type": "markdown",
      "source": [
        "### 2-4 覗き穴結合\n",
        "\n",
        "CEC に保存されている過去の情報を、任意のタイミングで、<br>\n",
        "他のノードに伝播させたり、忘却させるためのもの。<br>\n",
        "CEC 自身の値に重み行列を介して、伝播させる構造。\n",
        "\n",
        "- 他のノードに伝播\n",
        "  - 出力ゲート ( page. 66 図: 現在時間実線)\n",
        "  - 入力ゲート ( page. 66 図: 過去時間点線)\n",
        "- 忘却させる\n",
        "  - 忘却ゲート ( page. 66 図: 過去時間点線)\n"
      ],
      "metadata": {
        "id": "6cJE2f_Viw4J"
      }
    },
    {
      "cell_type": "markdown",
      "source": [
        "実際にはあまり効果が得られなかったとのこと。\n"
      ],
      "metadata": {
        "id": "5WnLQixZu2SS"
      }
    },
    {
      "cell_type": "markdown",
      "metadata": {
        "id": "dn0nkaSx8-Em"
      },
      "source": [
        "## 2. 確認テスト\n",
        "\n",
        "以降の \"page. \" は、講義資料のページの番号です。\n"
      ]
    },
    {
      "cell_type": "markdown",
      "source": [
        "### page. 62\n",
        "\n",
        "シグモイド関数の微分は、\n",
        "\n",
        "$$\n",
        "f(x) = \\frac{1}{1 + e^{x}}\n",
        "$$\n",
        "\n",
        "とすると、\n",
        "\n",
        "$$\n",
        "f'(x) = f(x) (1 - f(x))\n",
        "$$\n",
        "\n",
        "$$\n",
        "f(0) = 0.5\n",
        "$$\n",
        "\n",
        "から、\n",
        "\n",
        "$$\n",
        "0.5 \\times (1 - 0.5) = 0.25\n",
        "$$\n"
      ],
      "metadata": {
        "id": "OuyRpB5pEbOe"
      }
    },
    {
      "cell_type": "markdown",
      "source": [
        "### page. 78\n",
        "\n",
        "影響を及ぼさない単語を「忘却」するための、忘却ゲートが作用する。\n"
      ],
      "metadata": {
        "id": "QVLReyi6FY3C"
      }
    }
  ]
}